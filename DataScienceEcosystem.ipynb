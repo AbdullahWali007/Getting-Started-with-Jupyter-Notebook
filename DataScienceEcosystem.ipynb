{
  "metadata": {
    "kernelspec": {
      "name": "python",
      "display_name": "Python (Pyodide)",
      "language": "python"
    },
    "language_info": {
      "codemirror_mode": {
        "name": "python",
        "version": 3
      },
      "file_extension": ".py",
      "mimetype": "text/x-python",
      "name": "python",
      "nbconvert_exporter": "python",
      "pygments_lexer": "ipython3",
      "version": "3.8"
    }
  },
  "nbformat_minor": 5,
  "nbformat": 4,
  "cells": [
    {
      "id": "1dce144c-9e44-4716-9cec-c8ea89f8373c",
      "cell_type": "markdown",
      "source": "<center>\n    <img src=\"https://cf-courses-data.s3.us.cloud-object-storage.appdomain.cloud/IBMDeveloperSkillsNetwork-DS0105EN-SkillsNetwork/labs/Module2/images/SN_web_lightmode.png\" width=\"300\" alt=\"cognitiveclass.ai logo\">\n</center>\n",
      "metadata": {}
    },
    {
      "id": "e80959e9-50e0-418c-9e32-9343511dd8f5",
      "cell_type": "markdown",
      "source": "## DataScienceEcosystem",
      "metadata": {}
    },
    {
      "id": "42d3a149-379f-42ec-b89b-a7445b5413df",
      "cell_type": "markdown",
      "source": "# Data Science Tools and Ecosystem",
      "metadata": {}
    },
    {
      "id": "9877fbec-c39c-4da2-b55a-134122c64a74",
      "cell_type": "markdown",
      "source": "## Introduction\nIn this notebook, Data Science Tools and Ecosystem are summarized.",
      "metadata": {}
    },
    {
      "id": "2c3701d7-d5bd-47d8-ac6e-40a4473fbc50",
      "cell_type": "markdown",
      "source": "## Data Science Languages\nSome of the popular languages that Data Scientists use are:",
      "metadata": {}
    },
    {
      "id": "68590c86-6b67-455d-8716-14611d1bfde5",
      "cell_type": "markdown",
      "source": "1. Python\n2. R\n3. SQL\n4. Julia\n5. Java\n6. Sacala\n7. C/C++",
      "metadata": {}
    },
    {
      "id": "8057843d-7d46-4419-a97b-9baaffbf4312",
      "cell_type": "markdown",
      "source": "## Data Science Libraries",
      "metadata": {}
    },
    {
      "id": "a4a76cf8-9c7d-4be3-adbe-d889b42527f2",
      "cell_type": "markdown",
      "source": "Some of the commonly used libraries used by Data Scientists include:\n1. NumPy  \n2. pandas  \n3. Matplotlib  \n4. Seaborn  \n5. scikit-learn  \n6. TensorFlow  \n7. PyTorch\n8. NLTK\n9. ggplot2",
      "metadata": {}
    },
    {
      "id": "21561437-cbe9-48aa-908e-b7d7409ae443",
      "cell_type": "markdown",
      "source": "### Data Science Tools\n\n| Data Science Tools |\n|--------------------|\n| Jupyter Notebook  |\n| RStudio          |\n| Apache Zeppelin  |\n",
      "metadata": {}
    },
    {
      "id": "1cf194f2-cf28-4733-b407-12317aa0a91d",
      "cell_type": "markdown",
      "source": "## Arithmetic Expressions",
      "metadata": {}
    },
    {
      "id": "86b5a9a6-8719-437c-89e4-cbf7cfb0c75e",
      "cell_type": "markdown",
      "source": "### Below are a few examples of evaluating arithmetic expressions in Python.",
      "metadata": {}
    },
    {
      "id": "ff8a2564-4f24-4147-8c84-334abb7d7ddf",
      "cell_type": "markdown",
      "source": "#### Examples:  \n- **Addition:** `5 + 3 = 8`  \n- **Subtraction:** `10 - 4 = 6`  \n- **Multiplication:** `6 * 7 = 42`  \n- **Division:** `20 / 5 = 4`  \n- **Exponentiation:** `2 ** 3 = 8`  \n- **Modulo (Remainder):** `10 % 3 = 1`  ",
      "metadata": {}
    },
    {
      "id": "3d263fa9-c040-4a5e-a653-cfa1f33e5d10",
      "cell_type": "markdown",
      "source": "### Evaluating the expression (3*4)+5.",
      "metadata": {}
    },
    {
      "id": "21aa9f7e-df4f-422a-bc32-0c95bf2c25e4",
      "cell_type": "markdown",
      "source": "This a simple arithmetic expression to mutiply then add integers",
      "metadata": {}
    },
    {
      "id": "0a18763a-27b7-42f1-bea8-c347cbc2e574",
      "cell_type": "code",
      "source": "(3*4)+5",
      "metadata": {
        "trusted": true
      },
      "outputs": [
        {
          "execution_count": 3,
          "output_type": "execute_result",
          "data": {
            "text/plain": "17"
          },
          "metadata": {}
        }
      ],
      "execution_count": 3
    },
    {
      "id": "abb1e5a8-8ff0-49e9-8512-f871116a5b60",
      "cell_type": "markdown",
      "source": "### Convert minutes to hours",
      "metadata": {}
    },
    {
      "id": "88c12756-6eb3-459b-bb3f-460506b13a89",
      "cell_type": "code",
      "source": "minutes = 200\nhours  = minutes/60\nhours",
      "metadata": {
        "trusted": true
      },
      "outputs": [
        {
          "execution_count": 5,
          "output_type": "execute_result",
          "data": {
            "text/plain": "3.3333333333333335"
          },
          "metadata": {}
        }
      ],
      "execution_count": 5
    },
    {
      "id": "b9a4dcb8-31e0-453a-ae92-b25e7b16da1a",
      "cell_type": "markdown",
      "source": "## Objectives of this notebook",
      "metadata": {}
    },
    {
      "id": "716fa6a6-8b56-43b7-a13d-63271da2cc98",
      "cell_type": "markdown",
      "source": "- Data Science Tools and Ecosystem\n- Data Science Languages\n- Data Science Tools\n- Data Science Libraries\n- Evaluating Arthimetic Expressions\n- Multiplying and adding Integers\n- Converting minutes to hours",
      "metadata": {}
    },
    {
      "id": "e99c68c6-6695-40d1-b4f3-07ead1ee5b35",
      "cell_type": "markdown",
      "source": "## Authur",
      "metadata": {}
    },
    {
      "id": "f67d2b0f-2b15-48a7-900e-d571eb287433",
      "cell_type": "markdown",
      "source": "Muhammad Abdullah Wali",
      "metadata": {}
    }
  ]
}